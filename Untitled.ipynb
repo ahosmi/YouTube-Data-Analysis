{
 "cells": [
  {
   "cell_type": "code",
   "execution_count": null,
   "id": "85e83260-7404-4728-a0af-934dd09ba351",
   "metadata": {},
   "outputs": [],
   "source": [
    "import json\n",
    "import pandas as pd\n",
    "\n",
    "file = \"taylor_swift.json\"\n",
    "data = None \n",
    "with open(file,'r') as f:\n",
    "    data = json.load(f)\n",
    "\n",
    "channel_id, stats = data.popitem()\n",
    "print(channel_id)\n",
    "channel_stats = stats[\"channel_statistics\"]\n",
    "video_stats = stats[\"video_data\"]"
   ]
  },
  {
   "cell_type": "code",
   "execution_count": null,
   "id": "fe7d3966",
   "metadata": {},
   "outputs": [],
   "source": [
    "#channel statistics\n",
    "print('views', channel_stats[\"viewCount\"])\n",
    "print('subscriber', channel_stats[\"subscriberCount\"])\n",
    "print('videos', channel_stats[\"videoCount\"])"
   ]
  },
  {
   "cell_type": "code",
   "execution_count": null,
   "id": "965896dc",
   "metadata": {},
   "outputs": [],
   "source": [
    "#video statistics\n",
    "sorted_vids = sorted(video_stats.items(), key=lambda item: int(item[1][\"viewCount\"]), reverse=True)\n",
    "stats = []\n",
    "for vid in sorted_vids:\n",
    "    video_id = vid[0]\n",
    "    title = vid[1][\"title\"]\n",
    "    views = int(vid[1][\"viewCount\"])\n",
    "    likes = int(vid[1][\"likeCount\"])\n",
    "    dislikes = int(vid[1][\"dislikeCount\"])\n",
    "    comments = int(vid[1][\"commentcount\"])\n",
    "    stats.append([title, views, likes, dislikes, comments])"
   ]
  },
  {
   "cell_type": "code",
   "execution_count": null,
   "id": "669862b1",
   "metadata": {},
   "outputs": [],
   "source": [
    "df = pd.DataFrame(stats, columns=[\"title\", \"views\", \"likes\", \"dislikes\", \"comments\"])\n",
    "df.head(10)"
   ]
  },
  {
   "cell_type": "code",
   "execution_count": null,
   "id": "d3ab0df5",
   "metadata": {},
   "outputs": [],
   "source": [
    "top10 = df.head(10)\n",
    "ax = top10.plot.bar(x=\"title\", y=\"views\", figsize=(12,8), fontsize=14)"
   ]
  },
  {
   "cell_type": "code",
   "execution_count": null,
   "id": "f7a20e3f",
   "metadata": {},
   "outputs": [],
   "source": [
    "bottom10 = df.tail(10)\n",
    "ax = bottom10.plot.bar(x=\"title\", y=\"views\", figsize=(12, 8), fontsize =14)"
   ]
  },
  {
   "cell_type": "code",
   "execution_count": null,
   "id": "d54217d4",
   "metadata": {},
   "outputs": [],
   "source": [
    "#likes/dislikes\n",
    "likes_avg = top10['likes'].mean()\n",
    "dislikes_avg = top10['dislikes'].mean()\n",
    "comments_avg = top10['comments'].mean()\n",
    "print('Top 10')\n",
    "print('average likes', likes_avg)\n",
    "print('average likes', dislikes_avg)\n",
    "print('average likes', comments_avg)\n",
    "\n",
    "likes_avg = bottom10['likes'].mean()\n",
    "dislikes_avg = bottom10['dislikes'].mean()\n",
    "comments_avg = bottom10['comments'].mean()\n",
    "print('Top 10')\n",
    "print('average likes', likes_avg)\n",
    "print('average likes', dislikes_avg)\n",
    "print('average likes', comments_avg)\n"
   ]
  }
 ],
 "metadata": {
  "kernelspec": {
   "display_name": "Python 3 (ipykernel)",
   "language": "python",
   "name": "python3"
  },
  "language_info": {
   "codemirror_mode": {
    "name": "ipython",
    "version": 3
   },
   "file_extension": ".py",
   "mimetype": "text/x-python",
   "name": "python",
   "nbconvert_exporter": "python",
   "pygments_lexer": "ipython3",
   "version": "3.12.3"
  }
 },
 "nbformat": 4,
 "nbformat_minor": 5
}
